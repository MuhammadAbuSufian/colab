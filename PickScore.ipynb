{
  "nbformat": 4,
  "nbformat_minor": 0,
  "metadata": {
    "colab": {
      "provenance": [],
      "gpuType": "T4",
      "authorship_tag": "ABX9TyMCSkCvpl01WeqiU+zcwWFZ",
      "include_colab_link": true
    },
    "kernelspec": {
      "name": "python3",
      "display_name": "Python 3"
    },
    "language_info": {
      "name": "python"
    },
    "accelerator": "GPU",
    "widgets": {
      "application/vnd.jupyter.widget-state+json": {
        "a829f51bbb7e4216bc45dd71fd57b379": {
          "model_module": "@jupyter-widgets/controls",
          "model_name": "HBoxModel",
          "model_module_version": "1.5.0",
          "state": {
            "_dom_classes": [],
            "_model_module": "@jupyter-widgets/controls",
            "_model_module_version": "1.5.0",
            "_model_name": "HBoxModel",
            "_view_count": null,
            "_view_module": "@jupyter-widgets/controls",
            "_view_module_version": "1.5.0",
            "_view_name": "HBoxView",
            "box_style": "",
            "children": [
              "IPY_MODEL_cea10ec7b89b4b6fa903b080a548260f",
              "IPY_MODEL_3c29cbb84f284105a03984e969206d68",
              "IPY_MODEL_326b38cba6194ffa9dc63ed72ceb2e7d"
            ],
            "layout": "IPY_MODEL_8c2b909ca0ad4d8f8a0fd0e839843708"
          }
        },
        "cea10ec7b89b4b6fa903b080a548260f": {
          "model_module": "@jupyter-widgets/controls",
          "model_name": "HTMLModel",
          "model_module_version": "1.5.0",
          "state": {
            "_dom_classes": [],
            "_model_module": "@jupyter-widgets/controls",
            "_model_module_version": "1.5.0",
            "_model_name": "HTMLModel",
            "_view_count": null,
            "_view_module": "@jupyter-widgets/controls",
            "_view_module_version": "1.5.0",
            "_view_name": "HTMLView",
            "description": "",
            "description_tooltip": null,
            "layout": "IPY_MODEL_ca7344a398d24216b1d70abc2145f98e",
            "placeholder": "​",
            "style": "IPY_MODEL_9768d2e23908467ba0a9c562e46dec0f",
            "value": "model.safetensors: 100%"
          }
        },
        "3c29cbb84f284105a03984e969206d68": {
          "model_module": "@jupyter-widgets/controls",
          "model_name": "FloatProgressModel",
          "model_module_version": "1.5.0",
          "state": {
            "_dom_classes": [],
            "_model_module": "@jupyter-widgets/controls",
            "_model_module_version": "1.5.0",
            "_model_name": "FloatProgressModel",
            "_view_count": null,
            "_view_module": "@jupyter-widgets/controls",
            "_view_module_version": "1.5.0",
            "_view_name": "ProgressView",
            "bar_style": "success",
            "description": "",
            "description_tooltip": null,
            "layout": "IPY_MODEL_970df1f49c324fd984373df8dfa7dae9",
            "max": 3944552236,
            "min": 0,
            "orientation": "horizontal",
            "style": "IPY_MODEL_b487915364fb4d44bebcac2efe594874",
            "value": 3944552236
          }
        },
        "326b38cba6194ffa9dc63ed72ceb2e7d": {
          "model_module": "@jupyter-widgets/controls",
          "model_name": "HTMLModel",
          "model_module_version": "1.5.0",
          "state": {
            "_dom_classes": [],
            "_model_module": "@jupyter-widgets/controls",
            "_model_module_version": "1.5.0",
            "_model_name": "HTMLModel",
            "_view_count": null,
            "_view_module": "@jupyter-widgets/controls",
            "_view_module_version": "1.5.0",
            "_view_name": "HTMLView",
            "description": "",
            "description_tooltip": null,
            "layout": "IPY_MODEL_0d2e887c94424c44a4d0bbc4579b89cc",
            "placeholder": "​",
            "style": "IPY_MODEL_1b275a3e0d9b4f089ad2211b2c5756a5",
            "value": " 3.94G/3.94G [04:11&lt;00:00, 16.5MB/s]"
          }
        },
        "8c2b909ca0ad4d8f8a0fd0e839843708": {
          "model_module": "@jupyter-widgets/base",
          "model_name": "LayoutModel",
          "model_module_version": "1.2.0",
          "state": {
            "_model_module": "@jupyter-widgets/base",
            "_model_module_version": "1.2.0",
            "_model_name": "LayoutModel",
            "_view_count": null,
            "_view_module": "@jupyter-widgets/base",
            "_view_module_version": "1.2.0",
            "_view_name": "LayoutView",
            "align_content": null,
            "align_items": null,
            "align_self": null,
            "border": null,
            "bottom": null,
            "display": null,
            "flex": null,
            "flex_flow": null,
            "grid_area": null,
            "grid_auto_columns": null,
            "grid_auto_flow": null,
            "grid_auto_rows": null,
            "grid_column": null,
            "grid_gap": null,
            "grid_row": null,
            "grid_template_areas": null,
            "grid_template_columns": null,
            "grid_template_rows": null,
            "height": null,
            "justify_content": null,
            "justify_items": null,
            "left": null,
            "margin": null,
            "max_height": null,
            "max_width": null,
            "min_height": null,
            "min_width": null,
            "object_fit": null,
            "object_position": null,
            "order": null,
            "overflow": null,
            "overflow_x": null,
            "overflow_y": null,
            "padding": null,
            "right": null,
            "top": null,
            "visibility": null,
            "width": null
          }
        },
        "ca7344a398d24216b1d70abc2145f98e": {
          "model_module": "@jupyter-widgets/base",
          "model_name": "LayoutModel",
          "model_module_version": "1.2.0",
          "state": {
            "_model_module": "@jupyter-widgets/base",
            "_model_module_version": "1.2.0",
            "_model_name": "LayoutModel",
            "_view_count": null,
            "_view_module": "@jupyter-widgets/base",
            "_view_module_version": "1.2.0",
            "_view_name": "LayoutView",
            "align_content": null,
            "align_items": null,
            "align_self": null,
            "border": null,
            "bottom": null,
            "display": null,
            "flex": null,
            "flex_flow": null,
            "grid_area": null,
            "grid_auto_columns": null,
            "grid_auto_flow": null,
            "grid_auto_rows": null,
            "grid_column": null,
            "grid_gap": null,
            "grid_row": null,
            "grid_template_areas": null,
            "grid_template_columns": null,
            "grid_template_rows": null,
            "height": null,
            "justify_content": null,
            "justify_items": null,
            "left": null,
            "margin": null,
            "max_height": null,
            "max_width": null,
            "min_height": null,
            "min_width": null,
            "object_fit": null,
            "object_position": null,
            "order": null,
            "overflow": null,
            "overflow_x": null,
            "overflow_y": null,
            "padding": null,
            "right": null,
            "top": null,
            "visibility": null,
            "width": null
          }
        },
        "9768d2e23908467ba0a9c562e46dec0f": {
          "model_module": "@jupyter-widgets/controls",
          "model_name": "DescriptionStyleModel",
          "model_module_version": "1.5.0",
          "state": {
            "_model_module": "@jupyter-widgets/controls",
            "_model_module_version": "1.5.0",
            "_model_name": "DescriptionStyleModel",
            "_view_count": null,
            "_view_module": "@jupyter-widgets/base",
            "_view_module_version": "1.2.0",
            "_view_name": "StyleView",
            "description_width": ""
          }
        },
        "970df1f49c324fd984373df8dfa7dae9": {
          "model_module": "@jupyter-widgets/base",
          "model_name": "LayoutModel",
          "model_module_version": "1.2.0",
          "state": {
            "_model_module": "@jupyter-widgets/base",
            "_model_module_version": "1.2.0",
            "_model_name": "LayoutModel",
            "_view_count": null,
            "_view_module": "@jupyter-widgets/base",
            "_view_module_version": "1.2.0",
            "_view_name": "LayoutView",
            "align_content": null,
            "align_items": null,
            "align_self": null,
            "border": null,
            "bottom": null,
            "display": null,
            "flex": null,
            "flex_flow": null,
            "grid_area": null,
            "grid_auto_columns": null,
            "grid_auto_flow": null,
            "grid_auto_rows": null,
            "grid_column": null,
            "grid_gap": null,
            "grid_row": null,
            "grid_template_areas": null,
            "grid_template_columns": null,
            "grid_template_rows": null,
            "height": null,
            "justify_content": null,
            "justify_items": null,
            "left": null,
            "margin": null,
            "max_height": null,
            "max_width": null,
            "min_height": null,
            "min_width": null,
            "object_fit": null,
            "object_position": null,
            "order": null,
            "overflow": null,
            "overflow_x": null,
            "overflow_y": null,
            "padding": null,
            "right": null,
            "top": null,
            "visibility": null,
            "width": null
          }
        },
        "b487915364fb4d44bebcac2efe594874": {
          "model_module": "@jupyter-widgets/controls",
          "model_name": "ProgressStyleModel",
          "model_module_version": "1.5.0",
          "state": {
            "_model_module": "@jupyter-widgets/controls",
            "_model_module_version": "1.5.0",
            "_model_name": "ProgressStyleModel",
            "_view_count": null,
            "_view_module": "@jupyter-widgets/base",
            "_view_module_version": "1.2.0",
            "_view_name": "StyleView",
            "bar_color": null,
            "description_width": ""
          }
        },
        "0d2e887c94424c44a4d0bbc4579b89cc": {
          "model_module": "@jupyter-widgets/base",
          "model_name": "LayoutModel",
          "model_module_version": "1.2.0",
          "state": {
            "_model_module": "@jupyter-widgets/base",
            "_model_module_version": "1.2.0",
            "_model_name": "LayoutModel",
            "_view_count": null,
            "_view_module": "@jupyter-widgets/base",
            "_view_module_version": "1.2.0",
            "_view_name": "LayoutView",
            "align_content": null,
            "align_items": null,
            "align_self": null,
            "border": null,
            "bottom": null,
            "display": null,
            "flex": null,
            "flex_flow": null,
            "grid_area": null,
            "grid_auto_columns": null,
            "grid_auto_flow": null,
            "grid_auto_rows": null,
            "grid_column": null,
            "grid_gap": null,
            "grid_row": null,
            "grid_template_areas": null,
            "grid_template_columns": null,
            "grid_template_rows": null,
            "height": null,
            "justify_content": null,
            "justify_items": null,
            "left": null,
            "margin": null,
            "max_height": null,
            "max_width": null,
            "min_height": null,
            "min_width": null,
            "object_fit": null,
            "object_position": null,
            "order": null,
            "overflow": null,
            "overflow_x": null,
            "overflow_y": null,
            "padding": null,
            "right": null,
            "top": null,
            "visibility": null,
            "width": null
          }
        },
        "1b275a3e0d9b4f089ad2211b2c5756a5": {
          "model_module": "@jupyter-widgets/controls",
          "model_name": "DescriptionStyleModel",
          "model_module_version": "1.5.0",
          "state": {
            "_model_module": "@jupyter-widgets/controls",
            "_model_module_version": "1.5.0",
            "_model_name": "DescriptionStyleModel",
            "_view_count": null,
            "_view_module": "@jupyter-widgets/base",
            "_view_module_version": "1.2.0",
            "_view_name": "StyleView",
            "description_width": ""
          }
        }
      }
    }
  },
  "cells": [
    {
      "cell_type": "markdown",
      "metadata": {
        "id": "view-in-github",
        "colab_type": "text"
      },
      "source": [
        "<a href=\"https://colab.research.google.com/github/MuhammadAbuSufian/colab/blob/main/PickScore.ipynb\" target=\"_parent\"><img src=\"https://colab.research.google.com/assets/colab-badge.svg\" alt=\"Open In Colab\"/></a>"
      ]
    },
    {
      "cell_type": "code",
      "execution_count": null,
      "metadata": {
        "colab": {
          "base_uri": "https://localhost:8080/",
          "height": 66,
          "referenced_widgets": [
            "a829f51bbb7e4216bc45dd71fd57b379",
            "cea10ec7b89b4b6fa903b080a548260f",
            "3c29cbb84f284105a03984e969206d68",
            "326b38cba6194ffa9dc63ed72ceb2e7d",
            "8c2b909ca0ad4d8f8a0fd0e839843708",
            "ca7344a398d24216b1d70abc2145f98e",
            "9768d2e23908467ba0a9c562e46dec0f",
            "970df1f49c324fd984373df8dfa7dae9",
            "b487915364fb4d44bebcac2efe594874",
            "0d2e887c94424c44a4d0bbc4579b89cc",
            "1b275a3e0d9b4f089ad2211b2c5756a5"
          ]
        },
        "id": "zdJypmhDuXzZ",
        "outputId": "125c2232-7ef2-4016-fb2f-34d95abf7918"
      },
      "outputs": [
        {
          "output_type": "display_data",
          "data": {
            "text/plain": [
              "model.safetensors:   0%|          | 0.00/3.94G [00:00<?, ?B/s]"
            ],
            "application/vnd.jupyter.widget-view+json": {
              "version_major": 2,
              "version_minor": 0,
              "model_id": "a829f51bbb7e4216bc45dd71fd57b379"
            }
          },
          "metadata": {}
        },
        {
          "output_type": "stream",
          "name": "stdout",
          "text": [
            "[0.5843693614006042, 0.41563060879707336]\n"
          ]
        }
      ],
      "source": [
        "# Import necessary libraries\n",
        "from transformers import AutoProcessor, AutoModel\n",
        "from PIL import Image\n",
        "import torch\n",
        "import requests\n",
        "from io import BytesIO"
      ]
    },
    {
      "cell_type": "code",
      "source": [
        "# Load model\n",
        "device = \"cuda\"\n",
        "processor_name_or_path = \"laion/CLIP-ViT-H-14-laion2B-s32B-b79K\"\n",
        "model_pretrained_name_or_path = \"yuvalkirstain/PickScore_v1\"\n",
        "\n",
        "processor = AutoProcessor.from_pretrained(processor_name_or_path)\n",
        "model = AutoModel.from_pretrained(model_pretrained_name_or_path).eval().to(device)"
      ],
      "metadata": {
        "id": "PcuUjQLdBr8q"
      },
      "execution_count": null,
      "outputs": []
    },
    {
      "cell_type": "code",
      "source": [
        "# Define the function to calculate probs\n",
        "\n",
        "def calc_probs(prompt, images):\n",
        "    # Preprocess\n",
        "    image_inputs = processor(\n",
        "        images=images,\n",
        "        padding=True,\n",
        "        truncation=True,\n",
        "        max_length=77,\n",
        "        return_tensors=\"pt\",\n",
        "    ).to(device)\n",
        "\n",
        "    text_inputs = processor(\n",
        "        text=prompt,\n",
        "        padding=True,\n",
        "        truncation=True,\n",
        "        max_length=77,\n",
        "        return_tensors=\"pt\",\n",
        "    ).to(device)\n",
        "\n",
        "    with torch.no_grad():\n",
        "        # Embed\n",
        "        image_embs = model.get_image_features(**image_inputs)\n",
        "        image_embs = image_embs / torch.norm(image_embs, dim=-1, keepdim=True)\n",
        "\n",
        "        text_embs = model.get_text_features(**text_inputs)\n",
        "        text_embs = text_embs / torch.norm(text_embs, dim=-1, keepdim=True)\n",
        "\n",
        "        # Score\n",
        "        scores = model.logit_scale.exp() * (text_embs @ image_embs.T)[0]\n",
        "\n",
        "        # Get probabilities if you have multiple images to choose from\n",
        "        probs = torch.softmax(scores, dim=-1)\n",
        "\n",
        "    return probs.cpu().tolist()"
      ],
      "metadata": {
        "id": "h1OpEXtLBzfC"
      },
      "execution_count": null,
      "outputs": []
    },
    {
      "cell_type": "code",
      "source": [
        "# Example image URLs\n",
        "image_urls = [\n",
        "    'http://images.cocodataset.org/val2014/COCO_val2014_000000555472.jpg',\n",
        "    'http://images.cocodataset.org/val2014/COCO_val2014_000000311295.jpg',\n",
        "]\n",
        "\n",
        "# Load images from URLs\n",
        "images = []\n",
        "for url in image_urls:\n",
        "    response = requests.get(url)\n",
        "    if response.status_code == 200:\n",
        "        # Convert the response content to a PIL image\n",
        "        image = Image.open(BytesIO(response.content))\n",
        "        images.append(image)\n",
        "    else:\n",
        "        print(f\"Failed to load image from URL: {url}\")\n"
      ],
      "metadata": {
        "colab": {
          "base_uri": "https://localhost:8080/"
        },
        "id": "7j8c4Mr_-iH9",
        "outputId": "0f6bcc09-62ec-4c6e-8394-2f84012371f0"
      },
      "execution_count": null,
      "outputs": [
        {
          "output_type": "stream",
          "name": "stdout",
          "text": [
            "[0.8032723665237427, 0.19672763347625732]\n"
          ]
        }
      ]
    },
    {
      "cell_type": "code",
      "source": [
        "# Call calc_probs function with the prompt and images\n",
        "prompt = \"A elephant is waking\"\n",
        "print(calc_probs(prompt, images))"
      ],
      "metadata": {
        "id": "_q9FE7cSCD2J"
      },
      "execution_count": null,
      "outputs": []
    }
  ]
}