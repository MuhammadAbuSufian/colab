{
  "nbformat": 4,
  "nbformat_minor": 0,
  "metadata": {
    "colab": {
      "provenance": [],
      "machine_shape": "hm",
      "gpuType": "L4",
      "mount_file_id": "1xrYJ80O7DOp6LIuSuu4EIQMtTCAn8fD3",
      "authorship_tag": "ABX9TyOkea5K3kZS7LnkHF3IJCZ9",
      "include_colab_link": true
    },
    "kernelspec": {
      "name": "python3",
      "display_name": "Python 3"
    },
    "language_info": {
      "name": "python"
    },
    "accelerator": "GPU"
  },
  "cells": [
    {
      "cell_type": "markdown",
      "metadata": {
        "id": "view-in-github",
        "colab_type": "text"
      },
      "source": [
        "<a href=\"https://colab.research.google.com/github/MuhammadAbuSufian/colab/blob/main/AGIQA_3K.ipynb\" target=\"_parent\"><img src=\"https://colab.research.google.com/assets/colab-badge.svg\" alt=\"Open In Colab\"/></a>"
      ]
    },
    {
      "cell_type": "code",
      "source": [
        "# Import necessary libraries\n",
        "!pip install image-reward\n",
        "#!pip install torch==1.10.0+cu102 torchvision==0.11.1+cu102 torchaudio==0.10.0+cu102 -f https://download.pytorch.org/whl/cu102/torch_stable.html\n",
        "!pip install git+https://github.com/openai/CLIP.git\n",
        "\n",
        "import pandas as pd\n",
        "from transformers import AutoProcessor, AutoModel\n",
        "from PIL import Image\n",
        "import torch\n",
        "import requests\n",
        "from io import BytesIO\n",
        "import os\n",
        "import ImageReward as RM"
      ],
      "metadata": {
        "id": "ltQlIEQ8_NxG"
      },
      "execution_count": null,
      "outputs": []
    },
    {
      "cell_type": "markdown",
      "source": [],
      "metadata": {
        "id": "xh0ojc7OfT7L"
      }
    },
    {
      "cell_type": "code",
      "source": [
        "from google.colab import drive\n",
        "drive.mount('/content/drive')\n",
        "\n",
        "# Load the CSV file\n",
        "raw_data = pd.read_csv('/content/drive/MyDrive/Colab/Data/data.csv')\n",
        "data = raw_data"
      ],
      "metadata": {
        "colab": {
          "base_uri": "https://localhost:8080/"
        },
        "id": "xwoBy3s0Na2P",
        "outputId": "57ece4cb-2257-49ca-e53e-f0576f3774ba"
      },
      "execution_count": null,
      "outputs": [
        {
          "output_type": "stream",
          "name": "stdout",
          "text": [
            "Drive already mounted at /content/drive; to attempt to forcibly remount, call drive.mount(\"/content/drive\", force_remount=True).\n"
          ]
        }
      ]
    },
    {
      "cell_type": "code",
      "source": [
        "# Initialize an empty list to store results\n",
        "results = []\n",
        "expected_results = []\n",
        "\n",
        "model = RM.load(\"ImageReward-v1.0\")\n",
        "\n",
        "# Iterate over each row in the dataframe\n",
        "for index, row in data.iterrows():\n",
        "    image_name = row['name']\n",
        "    prompt = row['prompt']\n",
        "    human_feedback_score = row['std_align']\n",
        "\n",
        "\n",
        "    # Construct the path to the image file\n",
        "    image_path = os.path.join('/content/drive/MyDrive/Colab/Images/AGIQA-3K', image_name)\n",
        "\n",
        "    # Load the image\n",
        "    try:\n",
        "        with Image.open(image_path) as img:\n",
        "            rewards = model.score(prompt, img)\n",
        "            normalized_reward = 1 / (1 + np.exp(-rewards))  # Apply sigmoid function\n",
        "            results.append(normalized_reward)\n",
        "            expected_results.append(human_feedback_score)\n",
        "    except IOError:\n",
        "        print(f\"Failed to load image {image_name}\")\n",
        "\n",
        "# Convert results to a DataFrame for easy viewing or further processing\n",
        "\n",
        "print(results)\n",
        "print(expected_results)"
      ],
      "metadata": {
        "id": "1zhu4lDLAnPo"
      },
      "execution_count": null,
      "outputs": []
    },
    {
      "cell_type": "code",
      "source": [
        "#Calculate PLCC\n",
        "import numpy as np\n",
        "from scipy.stats import pearsonr, spearmanr, kendalltau\n",
        "\n",
        "subjective_scores = np.array(expected_results, dtype=float)\n",
        "objective_scores = np.array(results, dtype=float)\n",
        "\n",
        "print(subjective_scores.size)\n",
        "print(objective_scores.size)\n",
        "\n",
        "# Calculate PLCC\n",
        "plcc, _ = pearsonr(subjective_scores, objective_scores)\n",
        "\n",
        "# Calculate SROCC\n",
        "srocc, _ = spearmanr(subjective_scores, objective_scores)\n",
        "\n",
        "# Calculate KROCC\n",
        "krocc, _ = kendalltau(subjective_scores, objective_scores)\n",
        "\n",
        "print(\"PLCC:\", plcc)\n",
        "print(\"SROCC:\", srocc)\n",
        "print(\"KROCC:\", krocc)"
      ],
      "metadata": {
        "id": "0qUpSEfq2DSy"
      },
      "execution_count": null,
      "outputs": []
    }
  ]
}